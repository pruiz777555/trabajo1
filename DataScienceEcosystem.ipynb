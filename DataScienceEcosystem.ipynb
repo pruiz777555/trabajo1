{
  "cells": [
    {
      "cell_type": "markdown",
      "metadata": {
        "id": "view-in-github",
        "colab_type": "text"
      },
      "source": [
        "<a href=\"https://colab.research.google.com/github/pruiz777555/trabajo1/blob/main/DataScienceEcosystem.ipynb\" target=\"_parent\"><img src=\"https://colab.research.google.com/assets/colab-badge.svg\" alt=\"Open In Colab\"/></a>"
      ]
    },
    {
      "cell_type": "markdown",
      "metadata": {
        "id": "9c5e64dc-2bc7-4640-9b71-877eda7b6100"
      },
      "source": [
        "<center>\n",
        "    <img src=\"https://cf-courses-data.s3.us.cloud-object-storage.appdomain.cloud/IBMDeveloperSkillsNetwork-DS0105EN-SkillsNetwork/labs/Module2/images/SN_web_lightmode.png\" width=\"300\" alt=\"cognitiveclass.ai logo\">\n",
        "</center>\n"
      ]
    },
    {
      "cell_type": "markdown",
      "metadata": {
        "id": "bca0d27a-24c6-4c43-b116-c73c8d9ab219"
      },
      "source": [
        "# Hands-on Lab: Create your Jupyter Notebook\n"
      ]
    },
    {
      "cell_type": "markdown",
      "metadata": {
        "id": "8b126e2f-912e-42e0-8d57-43862ac465fc"
      },
      "source": [
        "#### Add your code below following the instructions given in the course\n"
      ]
    },
    {
      "cell_type": "markdown",
      "source": [
        "# Data Science Tools and Ecosystem"
      ],
      "metadata": {
        "id": "Eo1MU8y64r4E"
      }
    },
    {
      "cell_type": "markdown",
      "source": [
        "This notebook will summarize the tools and ecosystem of data science."
      ],
      "metadata": {
        "id": "_CkP0vGzAgyB"
      }
    },
    {
      "cell_type": "markdown",
      "source": [
        "**Objectives:**\n",
        "\n",
        "- List popular languages for Data Science  \n",
        "- Write and execute basic arithmetic expressions in Python  \n",
        "- Identify open source tools used in Data Science  "
      ],
      "metadata": {
        "id": "ViJqOzFFQZWE"
      }
    },
    {
      "cell_type": "markdown",
      "source": [
        "Commonly used languages ​for data science:\n",
        "\n",
        "1. Python\n",
        "2. R\n",
        "3. SQL"
      ],
      "metadata": {
        "id": "QwHgp8LcAqP3"
      }
    },
    {
      "cell_type": "markdown",
      "source": [
        "Some of the commonly used libraries used by Data Scientists include:\n",
        "\n",
        "1. Pandas\n",
        "4. NumPy\n",
        "3. Matplotlib\n",
        "2. Seaborn\n",
        "5. caret"
      ],
      "metadata": {
        "id": "EkMOshbvCUkk"
      }
    },
    {
      "cell_type": "markdown",
      "source": [
        "### Data Science Tools\n",
        "\n",
        "1. Jupyter Notebook\n",
        "2. Visual Studio Code\n",
        "3. RStudio"
      ],
      "metadata": {
        "id": "RKWlr7HED4EP"
      }
    },
    {
      "cell_type": "markdown",
      "source": [
        "### Examples of arithmetic expressions in Python"
      ],
      "metadata": {
        "id": "Ntrx372YGSmf"
      }
    },
    {
      "cell_type": "markdown",
      "source": [
        "1. Addition: a = 5 + 3    # Result: 8\n",
        "2. Subtraction: b = 10 - 4   # Result: 6\n",
        "3. Multiplication: c = 7 * 2    # Result: 14\n",
        "4. Division: d = 8 / 2    # Result: 4.0\n",
        "5. Exponentiation: e = 3 ** 2   # Result: 9"
      ],
      "metadata": {
        "id": "78kCMKUoJYEo"
      }
    },
    {
      "cell_type": "code",
      "source": [
        "# This is a basic arithmetic operation: multiply 3 and 4, then add 5\n",
        "result = (3 * 4) + 5\n",
        "result"
      ],
      "metadata": {
        "colab": {
          "base_uri": "https://localhost:8080/"
        },
        "id": "wTrAZ74iOajE",
        "outputId": "b426900d-4c56-43e4-dcbd-310acb637f5c"
      },
      "execution_count": 3,
      "outputs": [
        {
          "output_type": "execute_result",
          "data": {
            "text/plain": [
              "17"
            ]
          },
          "metadata": {},
          "execution_count": 3
        }
      ]
    },
    {
      "cell_type": "code",
      "source": [
        "# This converts 300 minutes into hours by dividing the total minutes by 60\n",
        "minutes = 300\n",
        "hours = minutes / 60\n",
        "hours"
      ],
      "metadata": {
        "colab": {
          "base_uri": "https://localhost:8080/"
        },
        "id": "e6hCuic5PPpJ",
        "outputId": "b0926b4d-a6b9-4a82-fcce-109195c21a0c"
      },
      "execution_count": 4,
      "outputs": [
        {
          "output_type": "execute_result",
          "data": {
            "text/plain": [
              "5.0"
            ]
          },
          "metadata": {},
          "execution_count": 4
        }
      ]
    },
    {
      "cell_type": "markdown",
      "source": [
        "## Author"
      ],
      "metadata": {
        "id": "MLAIWna3SGIb"
      }
    },
    {
      "cell_type": "markdown",
      "source": [
        "Paula Ruiz S"
      ],
      "metadata": {
        "id": "WjBotYKKSLXM"
      }
    },
    {
      "cell_type": "markdown",
      "metadata": {
        "id": "b5f467ed-efe7-45ac-a08b-b2d48c26ba81"
      },
      "source": [
        "Copyright ©2024 IBM Corporation. All rights reserved.\n"
      ]
    }
  ],
  "metadata": {
    "kernelspec": {
      "display_name": "Python",
      "language": "python",
      "name": "conda-env-python-py"
    },
    "language_info": {
      "name": "python",
      "version": "3.7.12",
      "mimetype": "text/x-python",
      "codemirror_mode": {
        "name": "ipython",
        "version": 3
      },
      "pygments_lexer": "ipython3",
      "nbconvert_exporter": "python",
      "file_extension": ".py"
    },
    "prev_pub_hash": "9e1985db9844176462bd1d5863048c9f3d17404bbc6a648be9084b0c42b29347",
    "colab": {
      "provenance": [],
      "include_colab_link": true
    }
  },
  "nbformat": 4,
  "nbformat_minor": 0
}